{
 "cells": [
  {
   "cell_type": "markdown",
   "metadata": {},
   "source": [
    "# This notebook is ready for your projects and experiments\n",
    "\n",
    "Go ahead and code!"
   ]
  },
  {
   "cell_type": "code",
   "execution_count": 25,
   "metadata": {},
   "outputs": [
    {
     "name": "stdout",
     "output_type": "stream",
     "text": [
      "Hello world Coursera fellow students! My name is Daniel Cruz and i'm from Monterrey, Mexico.\n"
     ]
    }
   ],
   "source": [
    "print(\"Hello world Coursera fellow students! My name is Daniel Cruz and i'm from Monterrey, Mexico.\")"
   ]
  },
  {
   "cell_type": "markdown",
   "metadata": {},
   "source": [
    "## Variables"
   ]
  },
  {
   "cell_type": "code",
   "execution_count": 26,
   "metadata": {},
   "outputs": [
    {
     "name": "stdout",
     "output_type": "stream",
     "text": [
      "50\n"
     ]
    }
   ],
   "source": [
    "age = 30\n",
    "age = 40\n",
    "age += 10\n",
    "print(age)"
   ]
  },
  {
   "cell_type": "markdown",
   "metadata": {},
   "source": [
    "## Lists and Mean with built-in funcs."
   ]
  },
  {
   "cell_type": "code",
   "execution_count": 27,
   "metadata": {},
   "outputs": [
    {
     "name": "stdout",
     "output_type": "stream",
     "text": [
      "250\n"
     ]
    },
    {
     "data": {
      "text/plain": [
       "41.666666666666664"
      ]
     },
     "execution_count": 27,
     "metadata": {},
     "output_type": "execute_result"
    }
   ],
   "source": [
    "age1 = 30\n",
    "age2 = 40\n",
    "age3 = 50\n",
    "age4 = 45\n",
    "\n",
    "ages = [30, 40, 50, 30, 70, 30]\n",
    "\n",
    "\n",
    "summed_ages = sum(ages)\n",
    "mean_ages = sum(ages)/len(ages)\n",
    "\n",
    "print(summed_ages)\n",
    "mean_ages"
   ]
  },
  {
   "cell_type": "markdown",
   "metadata": {},
   "source": [
    "## Numpy - Arrays"
   ]
  },
  {
   "cell_type": "code",
   "execution_count": 28,
   "metadata": {},
   "outputs": [
    {
     "data": {
      "text/plain": [
       "41.666666666666664"
      ]
     },
     "execution_count": 28,
     "metadata": {},
     "output_type": "execute_result"
    }
   ],
   "source": [
    "import numpy as np\n",
    "\n",
    "ages = np.array(ages)\n",
    "\n",
    "ages.mean()"
   ]
  },
  {
   "cell_type": "code",
   "execution_count": 29,
   "metadata": {},
   "outputs": [],
   "source": [
    "a1D = np.array([1, 2, 3, 4])\n",
    "a2D = np.array([[1,2,3],[4,5,6]])"
   ]
  },
  {
   "cell_type": "code",
   "execution_count": 30,
   "metadata": {},
   "outputs": [
    {
     "data": {
      "text/plain": [
       "array([1, 2, 3, 4])"
      ]
     },
     "execution_count": 30,
     "metadata": {},
     "output_type": "execute_result"
    }
   ],
   "source": [
    "a1D"
   ]
  },
  {
   "cell_type": "code",
   "execution_count": 31,
   "metadata": {},
   "outputs": [
    {
     "data": {
      "text/plain": [
       "array([[1, 2, 3],\n",
       "       [4, 5, 6]])"
      ]
     },
     "execution_count": 31,
     "metadata": {},
     "output_type": "execute_result"
    }
   ],
   "source": [
    "a2D"
   ]
  },
  {
   "cell_type": "markdown",
   "metadata": {},
   "source": [
    "## Standard deviation with Numpy"
   ]
  },
  {
   "cell_type": "code",
   "execution_count": 32,
   "metadata": {},
   "outputs": [
    {
     "name": "stdout",
     "output_type": "stream",
     "text": [
      "16.02081978759722 [30 40 50 30 70 30]\n"
     ]
    }
   ],
   "source": [
    "mean = ages.mean()\n",
    "dists = ages - mean\n",
    "dists = dists * dists\n",
    "summed_dists = np.sum(dists)\n",
    "avg_dists = summed_dists / (len(ages) - 1)\n",
    "std_dev = np.sqrt(avg_dists)\n",
    "print(std_dev, ages)"
   ]
  },
  {
   "cell_type": "code",
   "execution_count": 33,
   "metadata": {},
   "outputs": [
    {
     "name": "stdout",
     "output_type": "stream",
     "text": [
      "14.624940645653536\n"
     ]
    }
   ],
   "source": [
    "std_dev = np.std(ages)\n",
    "print(std_dev)"
   ]
  },
  {
   "cell_type": "markdown",
   "metadata": {},
   "source": [
    "## Basic Plotting "
   ]
  },
  {
   "cell_type": "code",
   "execution_count": 34,
   "metadata": {},
   "outputs": [
    {
     "data": {
      "image/png": "[encoded data removed]",
      "text/plain": [
       "<Figure size 432x288 with 1 Axes>"
      ]
     },
     "metadata": {},
     "output_type": "display_data"
    }
   ],
   "source": [
    "import matplotlib.pyplot as plt\n",
    "\n",
    "xs = [10, 100, 25, 67, 74]\n",
    "ys = [125, 26, 66, 1, 10]\n",
    "\n",
    "plt.scatter(xs, ys, marker=\"*\")\n",
    "plt.show()"
   ]
  },
  {
   "cell_type": "code",
   "execution_count": 35,
   "metadata": {},
   "outputs": [
    {
     "name": "stdout",
     "output_type": "stream",
     "text": [
      "[ 10 100  25  67  74]\n",
      "[125  26  66   1  10]\n"
     ]
    },
    {
     "data": {
      "image/png": "[encoded data removed]",
      "text/plain": [
       "<Figure size 432x288 with 1 Axes>"
      ]
     },
     "metadata": {},
     "output_type": "display_data"
    }
   ],
   "source": [
    "#Storing 2d coords in a single data structure\n",
    "\n",
    "import numpy as np\n",
    "xs = [10, 100, 25, 67, 74]\n",
    "ys = [125, 26, 66, 1, 10]\n",
    "\n",
    "xys = [ [10,125],[100,26],[25,66],[67,1],[74,10] ]\n",
    "xys = np.array(xys)\n",
    "\n",
    "print(xys[:,0]) #array first column\n",
    "\n",
    "print(xys[:,1]) #array second column\n",
    "\n",
    "plt.scatter(xys[:,0], xys[:,1])\n",
    "plt.show()\n"
   ]
  },
  {
   "cell_type": "code",
   "execution_count": 36,
   "metadata": {},
   "outputs": [
    {
     "name": "stdout",
     "output_type": "stream",
     "text": [
      "[[1 2]\n",
      " [3 4]\n",
      " [5 6]] [2, 4, 6] [2 4 6] [2 4 6]\n"
     ]
    }
   ],
   "source": [
    "data = [[1,2], [3,4], [5,6]]\n",
    "data = np.array(data)\n",
    "f = data[:,1] #pulls the second column\n",
    "i = [data[0][1], data[1][1], data[2][1]] #pulls the data with indexes of columns and rows (clumsy)\n",
    "g = data[:,-1] #pulls the last column\n",
    "print(data, i, f, g)"
   ]
  },
  {
   "cell_type": "code",
   "execution_count": 37,
   "metadata": {},
   "outputs": [
    {
     "name": "stdout",
     "output_type": "stream",
     "text": [
      "55.2 45.6\n"
     ]
    }
   ],
   "source": [
    "x_mean = np.mean (xys[:,0])\n",
    "y_mean = np.mean(xys[:,1])\n",
    "print(x_mean, y_mean)"
   ]
  },
  {
   "cell_type": "code",
   "execution_count": 38,
   "metadata": {},
   "outputs": [
    {
     "name": "stdout",
     "output_type": "stream",
     "text": [
      "[[ 10 125]\n",
      " [100  26]\n",
      " [ 25  66]\n",
      " [ 67   1]\n",
      " [ 74  10]] [55.2 45.6]\n"
     ]
    },
    {
     "data": {
      "text/plain": [
       "array([55.2, 45.6])"
      ]
     },
     "execution_count": 38,
     "metadata": {},
     "output_type": "execute_result"
    }
   ],
   "source": [
    "mean = np.mean(xys, 0)\n",
    "print(xys, mean)\n",
    "xys.mean(0)"
   ]
  },
  {
   "cell_type": "markdown",
   "metadata": {},
   "source": [
    "# Graphical overlays"
   ]
  },
  {
   "cell_type": "code",
   "execution_count": 48,
   "metadata": {},
   "outputs": [
    {
     "data": {
      "text/plain": [
       "<matplotlib.patches.Ellipse at 0x7f20e9374cf8>"
      ]
     },
     "execution_count": 48,
     "metadata": {},
     "output_type": "execute_result"
    },
    {
     "data": {
      "image/png": "[encoded data removed]",
      "text/plain": [
       "<Figure size 432x288 with 1 Axes>"
      ]
     },
     "metadata": {},
     "output_type": "display_data"
    }
   ],
   "source": [
    "import matplotlib.patches as patches\n",
    "mean = np.mean(xys, 0)\n",
    "std_dev = np.std(xys,0)\n",
    "\n",
    "ellipse = patches.Ellipse([mean[0], mean[1]], std_dev[0]*2, std_dev[1]*2, alpha=0.25)\n",
    "\n",
    "fig,graph = plt.subplots()\n",
    "\n",
    "graph.scatter(xys[:,0], xys[:,1]) #plot of the original data set.\n",
    "graph.scatter(mean[0], mean[1]) #plot of the mean, we split the mean into an x and y value\n",
    "graph.add_patch(ellipse)"
   ]
  },
  {
   "cell_type": "code",
   "execution_count": 40,
   "metadata": {},
   "outputs": [
    {
     "data": {
      "text/plain": [
       "array([-45.2,  79.4])"
      ]
     },
     "execution_count": 40,
     "metadata": {},
     "output_type": "execute_result"
    }
   ],
   "source": [
    "xys[0] - mean"
   ]
  },
  {
   "cell_type": "code",
   "execution_count": 41,
   "metadata": {},
   "outputs": [
    {
     "data": {
      "text/plain": [
       "48.89989775040434"
      ]
     },
     "execution_count": 41,
     "metadata": {},
     "output_type": "execute_result"
    }
   ],
   "source": [
    "np.linalg.norm(xys[1]-mean)"
   ]
  },
  {
   "cell_type": "markdown",
   "metadata": {},
   "source": [
    "# List comprehension"
   ]
  },
  {
   "cell_type": "code",
   "execution_count": 42,
   "metadata": {},
   "outputs": [
    {
     "name": "stdout",
     "output_type": "stream",
     "text": [
      "[7, 9, 11, 13]\n"
     ]
    }
   ],
   "source": [
    "a = [2, 4, 6, 8]\n",
    "\n",
    "b = [item + 5 for item in a]\n",
    "print(b)"
   ]
  },
  {
   "cell_type": "code",
   "execution_count": 43,
   "metadata": {},
   "outputs": [
    {
     "name": "stdout",
     "output_type": "stream",
     "text": [
      "[91.36410673782129, 48.89989775040434, 36.444478319767455, 46.13458572481171, 40.25916044827562]\n"
     ]
    }
   ],
   "source": [
    "#linalg = linear algebra library\n",
    "dist = np.linalg.norm(xys[0]-mean)\n",
    "\n",
    "dists = [np.linalg.norm(xy-mean) for xy in xys]\n",
    "print(dists)\n"
   ]
  },
  {
   "cell_type": "code",
   "execution_count": 44,
   "metadata": {},
   "outputs": [
    {
     "data": {
      "text/plain": [
       "[0, 1, 4, 9, 16, 25, 36, 49, 64, 81]"
      ]
     },
     "execution_count": 44,
     "metadata": {},
     "output_type": "execute_result"
    }
   ],
   "source": [
    "numeroscuadrados = [x**2 for x in range(10)]\n",
    "\"\"\"\n",
    "[x**2 for x in range(10)]\n",
    "x**2 = condición o parametro que se hará en cada iteración\n",
    "x = variable de cada iteracíon\n",
    "for x in range(10) = por cada iteración del 1 al 10 aplica la condición a la variable x\n",
    "\"\"\" \n",
    "numeroscuadrados"
   ]
  },
  {
   "cell_type": "markdown",
   "metadata": {},
   "source": [
    "# Normalisation"
   ]
  },
  {
   "cell_type": "markdown",
   "metadata": {},
   "source": [
    "A change in one propery is much more significant in the other so they are not well represented, so we have to standarized it (Normalisation)"
   ]
  },
  {
   "cell_type": "code",
   "execution_count": 51,
   "metadata": {},
   "outputs": [
    {
     "name": "stdout",
     "output_type": "stream",
     "text": [
      "[10  1] [100 125]\n",
      "[[0.         1.        ]\n",
      " [1.         0.2016129 ]\n",
      " [0.16666667 0.52419355]\n",
      " [0.63333333 0.        ]\n",
      " [0.71111111 0.07258065]]\n"
     ]
    }
   ],
   "source": [
    "x_min = np.min(xys,0)\n",
    "x_max = np.max(xys,0)\n",
    "print(x_min,x_max)\n",
    "normed = (xys - x_min) / (x_max - x_min)\n",
    "print(normed)"
   ]
  },
  {
   "cell_type": "markdown",
   "metadata": {},
   "source": [
    "# Outliers and plotting normalised data "
   ]
  },
  {
   "cell_type": "code",
   "execution_count": 53,
   "metadata": {},
   "outputs": [
    {
     "data": {
      "text/plain": [
       "<matplotlib.patches.Ellipse at 0x7f20e92cdeb8>"
      ]
     },
     "execution_count": 53,
     "metadata": {},
     "output_type": "execute_result"
    },
    {
     "data": {
      "image/png": "[encoded data removed]",
      "text/plain": [
       "<Figure size 432x288 with 1 Axes>"
      ]
     },
     "metadata": {},
     "output_type": "display_data"
    }
   ],
   "source": [
    "import matplotlib.patches as patches\n",
    "mean = np.mean(normed, 0)\n",
    "std_dev = np.std(normed,0)\n",
    "\n",
    "ellipse = patches.Ellipse([mean[0], mean[1]], std_dev[0]*2, std_dev[1]*2, alpha=0.25)\n",
    "\n",
    "fig,graph = plt.subplots()\n",
    "\n",
    "graph.scatter(normed[:,0], normed[:,1]) #plot of the original data set.\n",
    "graph.scatter(mean[0], mean[1]) #plot of the mean, we split the mean into an x and y value\n",
    "graph.add_patch(ellipse)"
   ]
  },
  {
   "cell_type": "code",
   "execution_count": null,
   "metadata": {},
   "outputs": [],
   "source": []
  }
 ],
 "metadata": {
  "kernelspec": {
   "display_name": "Python 3",
   "language": "python",
   "name": "python3"
  },
  "language_info": {
   "codemirror_mode": {
    "name": "ipython",
    "version": 3
   },
   "file_extension": ".py",
   "mimetype": "text/x-python",
   "name": "python",
   "nbconvert_exporter": "python",
   "pygments_lexer": "ipython3",
   "version": "3.6.3"
  }
 },
 "nbformat": 4,
 "nbformat_minor": 1
}
